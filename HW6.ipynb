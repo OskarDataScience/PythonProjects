{
 "cells": [
  {
   "cell_type": "code",
   "execution_count": null,
   "metadata": {},
   "outputs": [],
   "source": [
    "# homework number 6"
   ]
  },
  {
   "cell_type": "code",
   "execution_count": 5,
   "metadata": {},
   "outputs": [
    {
     "name": "stdout",
     "output_type": "stream",
     "text": [
      "Input value less than 1000!434\n",
      "four hundredthirtyfour kuna\n"
     ]
    }
   ],
   "source": [
    "def pretvorba(n):\n",
    "    lista_1=['','one','two','three','four','five',\n",
    "             'six','seven','eight','nine','','',\n",
    "             'twenty','thirty','fourty','fifty',\n",
    "             'sixty','seventy','eighty','ninety',\n",
    "             '','one hundred','two hundred','three hundred','four hundred','five hundred',\n",
    "             'six hundred','seven hundred','eight hundred','nine hundred']\n",
    "    lista_2=['ten','eleven','twelve','thirteen',\n",
    "             'fourteen','fiveteen','sixteen','seventeen',\n",
    "             'eighteen','nineteen']\n",
    "    string=''\n",
    "    for i in range(len(n)):\n",
    "        if n[len(n)-2] == '1' and i == len(n)-2:\n",
    "            string += lista_2[int(n[len(n)-1])]\n",
    "            break\n",
    "        else:\n",
    "            string += lista_1[(len(n)-i-1)*10+int(n[i])]\n",
    "    return string + ' kuna'\n",
    "\n",
    "def main():\n",
    "    a = input('Input value less than 1000!')\n",
    "    print(pretvorba(a))\n",
    "    return\n",
    "\n",
    "main()"
   ]
  },
  {
   "cell_type": "code",
   "execution_count": null,
   "metadata": {},
   "outputs": [],
   "source": []
  }
 ],
 "metadata": {
  "kernelspec": {
   "display_name": "Python 3",
   "language": "python",
   "name": "python3"
  },
  "language_info": {
   "codemirror_mode": {
    "name": "ipython",
    "version": 3
   },
   "file_extension": ".py",
   "mimetype": "text/x-python",
   "name": "python",
   "nbconvert_exporter": "python",
   "pygments_lexer": "ipython3",
   "version": "3.8.5"
  }
 },
 "nbformat": 4,
 "nbformat_minor": 4
}
