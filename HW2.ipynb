{
 "cells": [
  {
   "cell_type": "code",
   "execution_count": null,
   "metadata": {},
   "outputs": [],
   "source": [
    "# My second homework"
   ]
  },
  {
   "cell_type": "code",
   "execution_count": 2,
   "metadata": {},
   "outputs": [
    {
     "name": "stdout",
     "output_type": "stream",
     "text": [
      "initial_dictionary\n",
      "{'A': 'A', 'B': 'B', 'C': 'C', 'D': 'D', 'E': 'E', 'F': 'F', 'G': 'G', 'H': 'H', 'I': 'I', 'J': 'J', 'K': 'K', 'L': 'L', 'M': 'M', 'N': 'N', 'O': 'O', 'P': 'P', 'Q': 'Q', 'R': 'R', 'S': 'S', 'T': 'T', 'U': 'U', 'V': 'V', 'W': 'W', 'X': 'X', 'Y': 'Y', 'Z': 'Z'}\n",
      "\n",
      "final_dictionary\n",
      "{'A': 'A', 'B': 'X', 'C': 'W', 'D': 'Y', 'E': 'U', 'F': 'T', 'G': 'V', 'H': 'R', 'I': 'Q', 'J': 'S', 'K': 'O', 'L': 'N', 'M': 'P', 'N': 'L', 'O': 'K', 'P': 'M', 'Q': 'I', 'R': 'H', 'S': 'J', 'T': 'F', 'U': 'E', 'V': 'G', 'W': 'C', 'X': 'B', 'Y': 'D', 'Z': 'Z'}\n"
     ]
    }
   ],
   "source": [
    "def MoveDict(dictionary, n):\n",
    "    values = list(dictionary.values())\n",
    "    keys = list(dictionary.keys())\n",
    "    for i in range(0, len(keys)):\n",
    "        dictionary[keys[i]]=values[(i+n)%len(values)]\n",
    "    return dictionary\n",
    "\n",
    "def SwapDict(dictionary):\n",
    "    values = list(dictionary.values())\n",
    "    keys = list(dictionary.keys())\n",
    "    for i in range(0, len(values)):\n",
    "        dictionary[keys[i]]= values[len(values) - 1 - i]\n",
    "    return dictionary\n",
    "\n",
    "def SwapPair(dictionary, i):\n",
    "    values=list(dictionary.values())\n",
    "    keys = list(dictionary.keys())\n",
    "    for j in range(0, len(values)):\n",
    "        if j == 0:\n",
    "            dictionary[keys[j]] = values[i]\n",
    "        elif j == i:\n",
    "            dictionary[keys[j]] = values[0]\n",
    "        else:\n",
    "            dictionary[keys[j]] = values[j]\n",
    "    return dictionary\n",
    "\n",
    "def RecursiveDict(dictionary, i):\n",
    "    dictionary = MoveDict(dictionary, i)\n",
    "    dictionary = SwapDict(dictionary)\n",
    "    for j in range(0,25,3):\n",
    "        dictionary = SwapPair(dictionary, j)\n",
    "    if i == 0:\n",
    "        return dictionary\n",
    "    else:\n",
    "        return RecursiveDict(dictionary, i-1)\n",
    "                   \n",
    "def main():\n",
    "    initial_dictionary={'A':'A','B':'B','C':'C','D':'D','E':'E','F':'F','G':'G','H':'H','I':'I','J':'J','K':'K','L':'L','M':'M','N':'N','O':'O','P':'P','Q':'Q','R':'R','S':'S','T':'T','U':'U','V':'V','W':'W','X':'X','Y':'Y','Z':'Z'}\n",
    "    print('initial_dictionary')\n",
    "    print(initial_dictionary)\n",
    "    print()\n",
    "    final_dictionary = RecursiveDict(initial_dictionary, 50)\n",
    "    print('final_dictionary')\n",
    "    print(final_dictionary)\n",
    "    return\n",
    "\n",
    "main()\n"
   ]
  },
  {
   "cell_type": "code",
   "execution_count": null,
   "metadata": {},
   "outputs": [],
   "source": []
  }
 ],
 "metadata": {
  "kernelspec": {
   "display_name": "Python 3",
   "language": "python",
   "name": "python3"
  },
  "language_info": {
   "codemirror_mode": {
    "name": "ipython",
    "version": 3
   },
   "file_extension": ".py",
   "mimetype": "text/x-python",
   "name": "python",
   "nbconvert_exporter": "python",
   "pygments_lexer": "ipython3",
   "version": "3.8.5"
  }
 },
 "nbformat": 4,
 "nbformat_minor": 4
}
