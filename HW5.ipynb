{
 "cells": [
  {
   "cell_type": "code",
   "execution_count": 1,
   "metadata": {},
   "outputs": [
    {
     "name": "stdout",
     "output_type": "stream",
     "text": [
      "q\n",
      "w\n",
      "e\n",
      "r\n",
      "stog(['q', 'w', 'e', 'r', 'hfag'])\n",
      "False\n",
      "hfag\n",
      "stog(['q', 'w', 'e', 'r'])\n",
      "False\n",
      "r\n",
      "stog(['q', 'w', 'e'])\n",
      "False\n",
      "e\n",
      "stog(['q', 'w'])\n",
      "False\n",
      "w\n",
      "stog(['q'])\n",
      "False\n",
      "q\n",
      "stog([])\n",
      "True\n",
      "stog([])\n",
      "stog(['zzz'])\n",
      "zzz\n",
      "True\n"
     ]
    }
   ],
   "source": [
    "from collections import deque\n",
    "\n",
    "class stog(deque):\n",
    "    def __init__(self, data = ''):\n",
    "        assert isinstance(data, str)\n",
    "        deque.__init__(self,data)\n",
    "        \n",
    "    def push(self,t):\n",
    "        assert isinstance(t, str)\n",
    "        self.append(t)\n",
    "    \n",
    "    def pop(self):\n",
    "        return super().pop()\n",
    "    \n",
    "    def isEmpty(self):\n",
    "        if len(self) <= 0:\n",
    "            return True\n",
    "        else:\n",
    "            return False\n",
    "\n",
    "def main():\n",
    "    d = stog('qwer')\n",
    "    for i in d:\n",
    "        print(i)\n",
    "    d.push('hfag')\n",
    "    print(d)\n",
    "    print(d.isEmpty())\n",
    "    print(d.pop())\n",
    "    print(d)\n",
    "    print(d.isEmpty())\n",
    "    print(d.pop())\n",
    "    print(d)\n",
    "    print(d.isEmpty())\n",
    "    print(d.pop())\n",
    "    print(d)\n",
    "    print(d.isEmpty())\n",
    "    print(d.pop())\n",
    "    print(d)\n",
    "    print(d.isEmpty())\n",
    "    print(d.pop())\n",
    "    print(d)\n",
    "    print(d.isEmpty())\n",
    "\n",
    "    q = stog()\n",
    "    print(q)\n",
    "    q.push('zzz')\n",
    "    print(q)\n",
    "    print(q.pop())\n",
    "    print(q.isEmpty())\n",
    "    return\n",
    "\n",
    "main()"
   ]
  },
  {
   "cell_type": "code",
   "execution_count": null,
   "metadata": {},
   "outputs": [],
   "source": []
  }
 ],
 "metadata": {
  "kernelspec": {
   "display_name": "Python 3",
   "language": "python",
   "name": "python3"
  },
  "language_info": {
   "codemirror_mode": {
    "name": "ipython",
    "version": 3
   },
   "file_extension": ".py",
   "mimetype": "text/x-python",
   "name": "python",
   "nbconvert_exporter": "python",
   "pygments_lexer": "ipython3",
   "version": "3.8.5"
  }
 },
 "nbformat": 4,
 "nbformat_minor": 4
}
