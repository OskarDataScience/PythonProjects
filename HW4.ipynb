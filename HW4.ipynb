{
 "cells": [
  {
   "cell_type": "code",
   "execution_count": null,
   "metadata": {},
   "outputs": [],
   "source": [
    "# My fourth homework"
   ]
  },
  {
   "cell_type": "code",
   "execution_count": 11,
   "metadata": {},
   "outputs": [
    {
     "name": "stdout",
     "output_type": "stream",
     "text": [
      "Dont know what is that animal \n",
      "\n",
      "Miau \n",
      "\n",
      "Miau \n",
      "\n",
      "Vau Vau \n",
      "\n",
      "Vau Vau \n",
      "\n",
      "this many hairs was thrown out: 8069.781157 \n"
     ]
    }
   ],
   "source": [
    "from math import sqrt\n",
    "\n",
    "class animal:\n",
    "    def __init__(self, m, color):\n",
    "        self.m = m\n",
    "        self.color = color\n",
    "    def hair_number(self):\n",
    "        return 30*self.m\n",
    "    def vote(self):\n",
    "        print('Dont know what is that animal \\n')\n",
    "        return\n",
    "\n",
    "class cat(animal):\n",
    "    def __init__(self, m, color):\n",
    "        animal.__init__(self, m, color)\n",
    "    def hair_number(self):\n",
    "        return 20*self.m**2\n",
    "    def vote(self):\n",
    "        print('Miau \\n')\n",
    "        return\n",
    "\n",
    "class dog(animal):\n",
    "    def __init__(self, m, color):\n",
    "        animal.__init__(self, m, color)\n",
    "    def hair_number(self):\n",
    "        return 50*sqrt(self.m)\n",
    "\n",
    "    def vote(self):\n",
    "        print('Vau Vau \\n')\n",
    "        return\n",
    "    \n",
    "def main():\n",
    "    lista = (animal(30, 'black'), cat(15, 'grey'), cat(10, 'white'), dog(40, 'beige'), dog(50, 'black'))\n",
    "    hair_total = 0\n",
    "    for i in range(0, len(lista)):\n",
    "        hair_total += lista[i].hair_number()\n",
    "        lista[i].vote()\n",
    "    print('this many hairs was thrown out: {0:f} '.format(hair_total))\n",
    "    return\n",
    "    \n",
    "main()"
   ]
  },
  {
   "cell_type": "code",
   "execution_count": null,
   "metadata": {
    "collapsed": true
   },
   "outputs": [],
   "source": []
  }
 ],
 "metadata": {
  "kernelspec": {
   "display_name": "Python 3",
   "language": "python",
   "name": "python3"
  },
  "language_info": {
   "codemirror_mode": {
    "name": "ipython",
    "version": 3
   },
   "file_extension": ".py",
   "mimetype": "text/x-python",
   "name": "python",
   "nbconvert_exporter": "python",
   "pygments_lexer": "ipython3",
   "version": "3.8.5"
  }
 },
 "nbformat": 4,
 "nbformat_minor": 4
}
