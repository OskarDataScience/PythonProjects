{
 "cells": [
  {
   "cell_type": "code",
   "execution_count": null,
   "metadata": {},
   "outputs": [],
   "source": [
    "# third homework, calculating the electric fields from point charges"
   ]
  },
  {
   "cell_type": "code",
   "execution_count": 2,
   "metadata": {},
   "outputs": [
    {
     "name": "stdout",
     "output_type": "stream",
     "text": [
      "First Electric Field\n",
      "(-2.0, 0.0)\n",
      "(0.010669245863479171, 0.04000386879521876)\n",
      "\n",
      "Second Electric Field\n",
      "(0.0, 0.0)\n",
      "(0.07466924586347917, 0.08800386879521876)\n"
     ]
    }
   ],
   "source": [
    "from math import sqrt\n",
    "\n",
    "class Particle:\n",
    "    def __init__(self,x,y,q):\n",
    "        self.x = x\n",
    "        self.y = y\n",
    "        self.q = q\n",
    "    def __str__(self):\n",
    "        return ('x = %f, y = %f, q = %f' % (self.x ,self.y, self.q))\n",
    "    def __repr__(self):\n",
    "        return ('Particle(%f, %f, %f)' % (self.x ,self.y, self.q))\n",
    "    \n",
    "def Distance(a,b):\n",
    "    return sqrt(pow(a.x-b.x,2) + pow(a.y-b.y,2))\n",
    "\n",
    "class Point:\n",
    "    def __init__(self, x, y):\n",
    "        self.x = x\n",
    "        self.y = y\n",
    "        \n",
    "class point_charge:\n",
    "    def __init__(self, q, p):\n",
    "        self.x = (p.x-q.x)/Distance(p,q)\n",
    "        self.y = (p.y-q.y)/Distance(p,q)\n",
    "\n",
    "class ParticleDistribution:\n",
    "    def __init__(self, lista):\n",
    "        self.lista = lista\n",
    "    def electricalField(self, point):\n",
    "        elFieldX = 0\n",
    "        elFieldY = 0\n",
    "        for i in range(0, len(self.lista)):\n",
    "            elX = 1*self.lista[i].q*point_charge(self.lista[i],point).x/pow(Distance(self.lista[i], point),2)\n",
    "            elFieldX += elX\n",
    "            elY = 1*self.lista[i].q*point_charge(self.lista[i],point).y/pow(Distance(self.lista[i], point),2)\n",
    "            elFieldY += elY\n",
    "        return (elFieldX, elFieldY)\n",
    "                       \n",
    "def main():\n",
    "    p1=Particle(1,0,1)\n",
    "    p2=Particle(-1,0,-1)\n",
    "    lista = (p1,p2)\n",
    "    t1 = Point(0,0)\n",
    "    t2 = Point(3,3)\n",
    "    r1 = ParticleDistribution(lista)\n",
    "    elField1=r1.electricalField(t1)\n",
    "    elField2=r1.electricalField(t2)\n",
    "    print(\"First Electric Field\")\n",
    "    print(elField1)\n",
    "    print(elField2)\n",
    "    p3=Particle(1,0,1)\n",
    "    p4=Particle(-1,0,1)\n",
    "    lista2=(p3,p4)\n",
    "    t3=Point(0,0)\n",
    "    t4=Point(3,3)\n",
    "    r2=ParticleDistribution(lista2)\n",
    "    elField3=r2.electricalField(t3)\n",
    "    elField4=r2.electricalField(t4)\n",
    "    print()\n",
    "    print(\"Second Electric Field\")\n",
    "    print(elField3)\n",
    "    print(elField4)\n",
    "    return\n",
    "\n",
    "main()"
   ]
  },
  {
   "cell_type": "code",
   "execution_count": null,
   "metadata": {},
   "outputs": [],
   "source": []
  }
 ],
 "metadata": {
  "kernelspec": {
   "display_name": "Python 3",
   "language": "python",
   "name": "python3"
  },
  "language_info": {
   "codemirror_mode": {
    "name": "ipython",
    "version": 3
   },
   "file_extension": ".py",
   "mimetype": "text/x-python",
   "name": "python",
   "nbconvert_exporter": "python",
   "pygments_lexer": "ipython3",
   "version": "3.8.5"
  }
 },
 "nbformat": 4,
 "nbformat_minor": 4
}
